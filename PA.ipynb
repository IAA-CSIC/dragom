{
 "cells": [
  {
   "cell_type": "code",
   "execution_count": 1,
   "metadata": {},
   "outputs": [],
   "source": [
    "import numpy as np\n",
    "import statistics as st\n",
    "from astropy import units as u\n",
    "from astropy.coordinates import SkyCoord\n",
    "from astropy.time import Time"
   ]
  },
  {
   "cell_type": "code",
   "execution_count": 2,
   "metadata": {},
   "outputs": [],
   "source": [
    "P = 6.27 #orbital period in years (Kounkel et.al 2017)\n",
    "Pday = P * 365 #orbital period in days\n",
    "times = [2457266, 2457444] #Julian Date of observations (Kounkel et.al 2017)\n",
    "JD = Time(times, format = 'jd')\n",
    "TimeInterval = JD[1] - JD[0] #days between observations"
   ]
  },
  {
   "cell_type": "code",
   "execution_count": 3,
   "metadata": {},
   "outputs": [
    {
     "name": "stdout",
     "output_type": "stream",
     "text": [
      "23.338770279736423\n"
     ]
    }
   ],
   "source": [
    "c1 = [('5h35m21.318783s', '-05d12m12.685748s'), ('5h35m21.318540s', '-05d12m12.683635s')] #coordinates of source VLBI 4 \n",
    "c2 = [('5h35m21.318025s', '-05d12m12.675892s'), ('5h35m21.317729s', '-05d12m12.679769s')] #coordinates of source VLBI 107\n",
    "coord1 = SkyCoord(c1, frame = 'fk5')\n",
    "coord2 = SkyCoord(c2, frame = 'fk5')\n",
    "PA = [i.position_angle(j).to(u.deg) for i, j in zip(coord1, coord2)]\n",
    "PAInterval = abs(PA[1].degree - PA[0].degree) #PA change between observations\n",
    "print(PAInterval)"
   ]
  },
  {
   "cell_type": "code",
   "execution_count": 4,
   "metadata": {},
   "outputs": [
    {
     "name": "stdout",
     "output_type": "stream",
     "text": [
      "28.00026217473947\n"
     ]
    }
   ],
   "source": [
    "print(TimeInterval*360/Pday) #teorethical PA change between observations"
   ]
  },
  {
   "cell_type": "code",
   "execution_count": 12,
   "metadata": {},
   "outputs": [
    {
     "name": "stdout",
     "output_type": "stream",
     "text": [
      "2457259.0\n"
     ]
    }
   ],
   "source": [
    "obs=Time(['2015-08-06 12:00:00','2015-09-11 12:00:00'], scale='utc')\n",
    "obs.format='jd'\n",
    "delta=(obs[1]-obs[0])/2 #mean value of my two observation days\n",
    "myobs=obs[0]+delta\n",
    "print(myobs)"
   ]
  },
  {
   "cell_type": "code",
   "execution_count": 20,
   "metadata": {},
   "outputs": [
    {
     "data": {
      "text/plain": [
       "<TimeDelta object: scale='tai' format='jd' value=309.93614724819923>"
      ]
     },
     "execution_count": 20,
     "metadata": {},
     "output_type": "execute_result"
    }
   ],
   "source": [
    "delta0=JD[0]-myobs\n",
    "deltaPA=delta0*360/Pday\n",
    "PA[0].degree-deltaPA"
   ]
  }
 ],
 "metadata": {
  "kernelspec": {
   "display_name": "Python 3",
   "language": "python",
   "name": "python3"
  },
  "language_info": {
   "codemirror_mode": {
    "name": "ipython",
    "version": 3
   },
   "file_extension": ".py",
   "mimetype": "text/x-python",
   "name": "python",
   "nbconvert_exporter": "python",
   "pygments_lexer": "ipython3",
   "version": "3.7.5"
  }
 },
 "nbformat": 4,
 "nbformat_minor": 4
}
