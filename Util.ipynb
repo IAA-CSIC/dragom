{
 "cells": [
  {
   "cell_type": "code",
   "execution_count": 2,
   "metadata": {},
   "outputs": [],
   "source": [
    "from astropy import units as u\n",
    "from astropy import constants as const\n",
    "from uncertainties import ufloat\n",
    "from uncertainties.umath import *\n",
    "import datetime as dt\n",
    "import numpy as np"
   ]
  },
  {
   "cell_type": "code",
   "execution_count": 3,
   "metadata": {},
   "outputs": [],
   "source": [
    "def arcsec_to_uvdist(scale):\n",
    "    scale = scale*u.arcsec\n",
    "    uv_scale = 1/scale.to(u.rad)/1000*u.rad\n",
    "    return uv_scale"
   ]
  },
  {
   "cell_type": "code",
   "execution_count": 14,
   "metadata": {},
   "outputs": [
    {
     "data": {
      "text/latex": [
       "$206.26481 \\; \\mathrm{}$"
      ],
      "text/plain": [
       "<Quantity 206.26480625>"
      ]
     },
     "execution_count": 14,
     "metadata": {},
     "output_type": "execute_result"
    }
   ],
   "source": [
    "arcsec_to_uvdist(1)"
   ]
  },
  {
   "cell_type": "code",
   "execution_count": 2,
   "metadata": {},
   "outputs": [],
   "source": [
    "def pm_velocity(pm_ra,pm_dec):\n",
    "    '''Takes pm with errors: ufloat(value, error)'''\n",
    "    vel = sqrt(pm_ra**2 + pm_dec**2)\n",
    "    return vel"
   ]
  },
  {
   "cell_type": "code",
   "execution_count": 2,
   "metadata": {},
   "outputs": [],
   "source": [
    "def year_frac(yy,mm,dd):\n",
    "    date = dt.date(yy,mm,dd)\n",
    "    orig = dt.date(yy-1,12,31)\n",
    "    difference = date-orig\n",
    "    leap_year = yy % 4\n",
    "    if not leap_year:\n",
    "        days = 366\n",
    "    else:\n",
    "        days = 365\n",
    "    return difference.days / days + yy"
   ]
  },
  {
   "cell_type": "code",
   "execution_count": 5,
   "metadata": {},
   "outputs": [],
   "source": [
    "def change_vel_units(vel, units, d):\n",
    "    if units == 'km/s':\n",
    "        v = vel*1000\n",
    "        l = v/d*(1*u.km).to(u.au)/u.au*u.mas\n",
    "        t = (1*u.second).to(u.yr)\n",
    "    elif units == 'mas/yr':\n",
    "        v = vel/1000 #in arcsec/yr    \n",
    "        l = ((v*d)*u.au).to(u.km)\n",
    "        t = (1*u.year).to(u.second)\n",
    "    else:\n",
    "        print('Units most be \"km/s\" or \"mas/yr\"')\n",
    "    new_v = l/t\n",
    "    return new_v\n",
    "    "
   ]
  },
  {
   "cell_type": "code",
   "execution_count": 2,
   "metadata": {},
   "outputs": [],
   "source": [
    "def find_pm(PA, vel):\n",
    "    a = vel * cos((180-PA)*np.pi/180)\n",
    "    b = vel * sin((180-PA)*np.pi/180)\n",
    "    return (a,b)"
   ]
  },
  {
   "cell_type": "code",
   "execution_count": 31,
   "metadata": {},
   "outputs": [],
   "source": [
    "def freq_to_wavel(f):\n",
    "    wl = (f).to(u.mm, equivalencies=u.spectral()) \n",
    "    return wl"
   ]
  },
  {
   "cell_type": "code",
   "execution_count": 27,
   "metadata": {},
   "outputs": [],
   "source": [
    "def wavel_to_freq(wl):\n",
    "    f = (wl).to(u.GHz, equivalencies=u.spectral()) \n",
    "    return f"
   ]
  },
  {
   "cell_type": "code",
   "execution_count": 38,
   "metadata": {},
   "outputs": [],
   "source": [
    "def ALMA_PB(l,D):\n",
    "    PB_rad = (1.13*l/D).decompose() #in radians\n",
    "    PB = PB_rad*180/np.pi*3600 #in arcsec\n",
    "    return PB*u.arcsec"
   ]
  },
  {
   "cell_type": "code",
   "execution_count": 39,
   "metadata": {},
   "outputs": [
    {
     "data": {
      "text/latex": [
       "$58.229496 \\; \\mathrm{{}^{\\prime\\prime}}$"
      ],
      "text/plain": [
       "<Quantity 58.22949632 arcsec>"
      ]
     },
     "execution_count": 39,
     "metadata": {},
     "output_type": "execute_result"
    }
   ],
   "source": [
    "l = freq_to_wavel(100*u.GHz)\n",
    "ALMA_PB(l,12*u.m)"
   ]
  },
  {
   "cell_type": "code",
   "execution_count": 6,
   "metadata": {},
   "outputs": [
    {
     "name": "stdout",
     "output_type": "stream",
     "text": [
      "23.327656999382228 km / s+-0.31315547882101297 km / s\n"
     ]
    }
   ],
   "source": [
    "v=16.403194 #mas/yr Optical\n",
    "e_v=0.22020\n",
    "d=300\n",
    "v1 = change_vel_units(v,'mas/yr',d)\n",
    "err_v1 = change_vel_units(e_v,'mas/yr',d)\n",
    "print(f'{v1}+-{err_v1}')"
   ]
  },
  {
   "cell_type": "code",
   "execution_count": 7,
   "metadata": {},
   "outputs": [
    {
     "name": "stdout",
     "output_type": "stream",
     "text": [
      "17.526410512129935 km / s+-0.7089956656081137 km / s\n"
     ]
    }
   ],
   "source": [
    "v=12.323960 #mas/yr 4A\n",
    "e_v=0.498541\n",
    "d=300\n",
    "v1 = change_vel_units(v,'mas/yr',d)\n",
    "err_v1 = change_vel_units(e_v,'mas/yr',d)\n",
    "print(f'{v1}+-{err_v1}')"
   ]
  },
  {
   "cell_type": "code",
   "execution_count": 8,
   "metadata": {},
   "outputs": [
    {
     "name": "stdout",
     "output_type": "stream",
     "text": [
      "19.63378191622322 km / s+-0.5688564556240019 km / s\n"
     ]
    }
   ],
   "source": [
    "v=13.80579 #mas/yr 4B\n",
    "e_v=0.4\n",
    "d=300\n",
    "v1 = change_vel_units(v,'mas/yr',d)\n",
    "err_v1 = change_vel_units(e_v,'mas/yr',d)\n",
    "print(f'{v1}+-{err_v1}')"
   ]
  },
  {
   "cell_type": "code",
   "execution_count": 141,
   "metadata": {
    "scrolled": false
   },
   "outputs": [
    {
     "name": "stdout",
     "output_type": "stream",
     "text": [
      "2.2754258224960076 km / s+-0.8532846834360026 km / s\n"
     ]
    }
   ],
   "source": [
    "v=1.6\n",
    "e_v=0.6\n",
    "d=300\n",
    "v1 = change_vel_units(v,'mas/yr',d)\n",
    "err_v1 = change_vel_units(e_v,'mas/yr',d)\n",
    "print(f'{v1}+-{err_v1}')"
   ]
  },
  {
   "cell_type": "code",
   "execution_count": 10,
   "metadata": {},
   "outputs": [
    {
     "name": "stdout",
     "output_type": "stream",
     "text": [
      "20.626480624709636\n"
     ]
    }
   ],
   "source": [
    "print(arcsec_to_uvdist(10)) #kilolambda"
   ]
  },
  {
   "cell_type": "code",
   "execution_count": 3,
   "metadata": {},
   "outputs": [
    {
     "data": {
      "text/plain": [
       "[12.323960402403117+/-0.49854145970260266,\n",
       " 13.805795884337854+/-0.4,\n",
       " 16.403193573101614+/-0.22020191399347538]"
      ]
     },
     "execution_count": 3,
     "metadata": {},
     "output_type": "execute_result"
    }
   ],
   "source": [
    "pm_ra=[ufloat(8.2,0.6),ufloat(8.6,0.4),ufloat(9.982287690504483,0.25517997)] #A, B,optical\n",
    "pm_dec=[ufloat(-9.2,0.4),ufloat(-10.8,0.4),ufloat(-13.016093571446266,0.19674583)]\n",
    "[pm_velocity(ra,dec) for ra,dec in zip(pm_ra,pm_dec)]"
   ]
  },
  {
   "cell_type": "code",
   "execution_count": 4,
   "metadata": {},
   "outputs": [
    {
     "name": "stdout",
     "output_type": "stream",
     "text": [
      "138.3+/-2.4 141.5+/-1.7 142.5+/-0.8\n"
     ]
    }
   ],
   "source": [
    "paA=180+atan(pm_ra[0]/pm_dec[0])*180/np.pi #A\n",
    "paB=180+atan(pm_ra[1]/pm_dec[1])*180/np.pi #B\n",
    "paOpt=180+atan(pm_ra[2]/pm_dec[2])*180/np.pi #Optical\n",
    "print(paA,paB,paOpt)"
   ]
  },
  {
   "cell_type": "code",
   "execution_count": 32,
   "metadata": {},
   "outputs": [
    {
     "data": {
      "text/plain": [
       "2001.3013698630136"
      ]
     },
     "execution_count": 32,
     "metadata": {},
     "output_type": "execute_result"
    }
   ],
   "source": [
    "year_frac(2001,4,20)"
   ]
  },
  {
   "cell_type": "code",
   "execution_count": 42,
   "metadata": {},
   "outputs": [
    {
     "data": {
      "text/plain": [
       "12.00000000000001+/-21.633307652783937"
      ]
     },
     "execution_count": 42,
     "metadata": {},
     "output_type": "execute_result"
    }
   ],
   "source": [
    "(ufloat(8.6,0.4)-ufloat(8.2,0.6))*30"
   ]
  },
  {
   "cell_type": "code",
   "execution_count": 47,
   "metadata": {},
   "outputs": [
    {
     "data": {
      "text/plain": [
       "-48.00000000000004+/-16.97056274847714"
      ]
     },
     "execution_count": 47,
     "metadata": {},
     "output_type": "execute_result"
    }
   ],
   "source": [
    "(ufloat(9.2,0.4)-ufloat(10.8,0.4))*30"
   ]
  },
  {
   "cell_type": "code",
   "execution_count": 48,
   "metadata": {},
   "outputs": [
    {
     "data": {
      "text/plain": [
       "0.48000000000000004+/-0.18"
      ]
     },
     "execution_count": 48,
     "metadata": {},
     "output_type": "execute_result"
    }
   ],
   "source": [
    "ufloat(1.6,0.6)/1000*300"
   ]
  },
  {
   "cell_type": "code",
   "execution_count": 18,
   "metadata": {},
   "outputs": [
    {
     "data": {
      "text/latex": [
       "$763.94373 \\; \\mathrm{}$"
      ],
      "text/plain": [
       "<Quantity 763.94372684>"
      ]
     },
     "execution_count": 18,
     "metadata": {},
     "output_type": "execute_result"
    }
   ],
   "source": [
    "arcsec_to_uvdist(0.27)"
   ]
  },
  {
   "cell_type": "code",
   "execution_count": null,
   "metadata": {},
   "outputs": [],
   "source": []
  }
 ],
 "metadata": {
  "kernelspec": {
   "display_name": "Python 3",
   "language": "python",
   "name": "python3"
  },
  "language_info": {
   "codemirror_mode": {
    "name": "ipython",
    "version": 3
   },
   "file_extension": ".py",
   "mimetype": "text/x-python",
   "name": "python",
   "nbconvert_exporter": "python",
   "pygments_lexer": "ipython3",
   "version": "3.8.5"
  }
 },
 "nbformat": 4,
 "nbformat_minor": 4
}
