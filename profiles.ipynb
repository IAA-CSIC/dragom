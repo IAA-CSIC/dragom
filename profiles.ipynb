{
 "cells": [
  {
   "cell_type": "code",
   "execution_count": null,
   "metadata": {},
   "outputs": [],
   "source": [
    "import numpy as np"
   ]
  },
  {
   "cell_type": "code",
   "execution_count": null,
   "metadata": {},
   "outputs": [],
   "source": [
    "def pos_in_maxs(structure_name, position_list, maxs_list):\n",
    "        pos = np.where(position_list == structure_name)\n",
    "        list_pos = [] \n",
    "        for i, j in zip(pos[0],pos[1]):\n",
    "            list_pos.append([i, maxs_list[i][j]])\n",
    "        return list_pos"
   ]
  },
  {
   "cell_type": "code",
   "execution_count": null,
   "metadata": {},
   "outputs": [],
   "source": [
    "def new_angle(ang,cut):\n",
    "    new_ang = []\n",
    "    for a in ang:\n",
    "        if a > cut:\n",
    "            new_ang.append(a-360)\n",
    "        else:\n",
    "            new_ang.append(a)\n",
    "    return new_ang"
   ]
  },
  {
   "cell_type": "code",
   "execution_count": null,
   "metadata": {},
   "outputs": [],
   "source": [
    "def pixels(origin,length,ang): #origin = [x0,y0], length in pixels, ang en degrees\n",
    "    x0, y0 = origin\n",
    "    x1 = x0 - length * np.sin(ang*np.pi/180)\n",
    "    y1 = y0 + length * np.cos(ang*np.pi/180)\n",
    "    return [x1,y1]"
   ]
  },
  {
   "cell_type": "code",
   "execution_count": null,
   "metadata": {},
   "outputs": [],
   "source": [
    "def save_pixels(name,pixels,color='red',symbol='.'):\n",
    "    f=open(name+'.crtf','w')\n",
    "    f.write('#CRTFv0 CASA Region Text Format version 0\\n')\n",
    "    for pix in pixels:\n",
    "        f.write(f'symbol [[{pix[0]}pix,{pix[1]}pix], {symbol}] coord=ICRS, linewidth=1, linestyle=-, symsize=1, symthick=1, color={color}, font=\"DejaVu Sans\", fontsize=11, fontstyle=normal, usetex=false\\n')\n",
    "    f.close()"
   ]
  },
  {
   "cell_type": "code",
   "execution_count": null,
   "metadata": {},
   "outputs": [],
   "source": [
    "def write_maxs(file_name,maxs):\n",
    "    with open(file_name, 'w') as fmax:\n",
    "        for prof in maxs:\n",
    "            line = '\\t'.join([str(i) for i in prof])+'\\n' \n",
    "            fmax.write(line)"
   ]
  },
  {
   "cell_type": "code",
   "execution_count": null,
   "metadata": {},
   "outputs": [],
   "source": [
    "def load_maxs(file_name):\n",
    "    maxs = []\n",
    "    with open(file_name) as fmax:\n",
    "        lines = fmax.readlines()\n",
    "        for l in lines:\n",
    "            nl = l.replace('\\n', '').split('\\t')\n",
    "            m = [int(i) for i in nl] \n",
    "            maxs.append(m)\n",
    "    return maxs"
   ]
  },
  {
   "cell_type": "code",
   "execution_count": null,
   "metadata": {},
   "outputs": [],
   "source": [
    "#needed to make the gaussian fits\n",
    "def find_true_maxs(original_list, x, y):\n",
    "    big_list = []\n",
    "    sub_list = []\n",
    "    for ix, valx in enumerate(x):\n",
    "        to_append = original_list[valx][y[ix]]\n",
    "   \n",
    "        if ix == len(x)-1:\n",
    "            sub_list.append(to_append)\n",
    "            big_list.append(sub_list)\n",
    "            break\n",
    "        if valx == x[ix+1]:\n",
    "            sub_list.append(to_append) \n",
    "        else:\n",
    "            sub_list.append(to_append)\n",
    "            big_list.append(sub_list)\n",
    "            sub_list = []      \n",
    "    return big_list"
   ]
  },
  {
   "cell_type": "code",
   "execution_count": null,
   "metadata": {},
   "outputs": [],
   "source": [
    "#funtion to fit (several gaussians)\n",
    "def func(x, *params):\n",
    "    y = np.zeros_like(x)\n",
    "    for i in range(0, len(params), 3):\n",
    "        ctr = params[i]\n",
    "        amp = params[i+1]\n",
    "        wid = params[i+2]\n",
    "        y = y + amp * np.exp( -((x - ctr)/wid)**2)\n",
    "    return y"
   ]
  }
 ],
 "metadata": {
  "kernelspec": {
   "display_name": "Python 3",
   "language": "python",
   "name": "python3"
  },
  "language_info": {
   "codemirror_mode": {
    "name": "ipython",
    "version": 3
   },
   "file_extension": ".py",
   "mimetype": "text/x-python",
   "name": "python",
   "nbconvert_exporter": "python",
   "pygments_lexer": "ipython3",
   "version": "3.7.5"
  }
 },
 "nbformat": 4,
 "nbformat_minor": 4
}
