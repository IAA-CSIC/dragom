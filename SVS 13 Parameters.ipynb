{
 "cells": [
  {
   "cell_type": "code",
   "execution_count": 1,
   "metadata": {},
   "outputs": [],
   "source": [
    "from astropy import units as u\n",
    "import numpy as np\n",
    "import parameters as par"
   ]
  },
  {
   "cell_type": "markdown",
   "metadata": {},
   "source": [
    "# Toomre's Q parameter"
   ]
  },
  {
   "cell_type": "markdown",
   "metadata": {},
   "source": [
    "## Us"
   ]
  },
  {
   "cell_type": "code",
   "execution_count": 2,
   "metadata": {
    "scrolled": true
   },
   "outputs": [
    {
     "data": {
      "text/latex": [
       "$3.2083405 \\; \\mathrm{}$"
      ],
      "text/plain": [
       "<Quantity 3.20834049>"
      ]
     },
     "execution_count": 2,
     "metadata": {},
     "output_type": "execute_result"
    }
   ],
   "source": [
    "M_star = 0.41*u.solMass\n",
    "M_disk = 0.14*u.solMass\n",
    "T_disk = 126*u.K #disk temperature\n",
    "r_disk = 150*u.au\n",
    "par.Q(M_star,M_disk,T_disk,r_disk)"
   ]
  },
  {
   "cell_type": "markdown",
   "metadata": {},
   "source": [
    "## Tobin (HOPS 370)"
   ]
  },
  {
   "cell_type": "code",
   "execution_count": 3,
   "metadata": {},
   "outputs": [
    {
     "data": {
      "text/latex": [
       "$7.0069443 \\; \\mathrm{}$"
      ],
      "text/plain": [
       "<Quantity 7.00694434>"
      ]
     },
     "execution_count": 3,
     "metadata": {},
     "output_type": "execute_result"
    }
   ],
   "source": [
    "M_star = 2.5*u.solMass\n",
    "M_disk = 0.06*u.solMass\n",
    "T_disk=180*u.K #disk temperature\n",
    "r_disk=50*u.au\n",
    "c_sound=560*u.m*u.s**-1\n",
    "par.Q(M_star,M_disk,T_disk,r_disk,c_sound=c_sound)"
   ]
  },
  {
   "cell_type": "markdown",
   "metadata": {},
   "source": [
    "# Mass from dust emission"
   ]
  },
  {
   "cell_type": "code",
   "execution_count": 9,
   "metadata": {
    "scrolled": true
   },
   "outputs": [
    {
     "name": "stdout",
     "output_type": "stream",
     "text": [
      "[<Quantity 0.18038123 solMass>, <Quantity 0.22066054 solMass>, <Quantity 0.15253715 solMass>]\n",
      "[<Quantity 0.13622668 solMass>, <Quantity 0.16831544 solMass>, <Quantity 0.11440958 solMass>]\n"
     ]
    }
   ],
   "source": [
    "S = 1102*u.mJy\n",
    "D = 300*u.pc\n",
    "k_nu = 1.77*u.cm**2*u.g**-1 #en cm^2/g (del polvo)\n",
    "f= 100 # gas-to-dust ratio\n",
    "T=126 #temperature of the disk\n",
    "ErT=23 #error of T\n",
    "T_d = [i*u.K for i in [T,T-ErT,T+ErT]]\n",
    "M1 = [par.MassMA01(S,t,D,k_nu) for t in T_d]\n",
    "wl=1.3*u.mm\n",
    "M2 = [par.MassT20(S,t,D,k_nu,wl) for t in T_d]\n",
    "print(M1)\n",
    "print(M2)"
   ]
  },
  {
   "cell_type": "markdown",
   "metadata": {},
   "source": [
    "## M(dust) Eq(1) Tobin+2020 (hops370)"
   ]
  },
  {
   "cell_type": "code",
   "execution_count": 7,
   "metadata": {},
   "outputs": [
    {
     "data": {
      "text/latex": [
       "$0.059415377 \\; \\mathrm{M_{\\odot}}$"
      ],
      "text/plain": [
       "<Quantity 0.05941538 solMass>"
      ]
     },
     "execution_count": 7,
     "metadata": {},
     "output_type": "execute_result"
    }
   ],
   "source": [
    "#Tobin (HOPS370)\n",
    "S = 0.207*u.Jy\n",
    "T_d=180*u.K\n",
    "D=392*u.pc\n",
    "k_nu=0.899*u.cm**2*u.g**(-1)\n",
    "wl=1.3*u.mm\n",
    "par.MassT20(S,T_d,D,k_nu,wl)"
   ]
  },
  {
   "cell_type": "markdown",
   "metadata": {},
   "source": [
    "## Calculo N(H2)"
   ]
  },
  {
   "cell_type": "code",
   "execution_count": null,
   "metadata": {},
   "outputs": [],
   "source": [
    "d_d=2 #diameter in arcsec\n",
    "r_d=d_d/2*D*u.au #radio in AU \n",
    "A_d=np.pi*(r_d.to(u.cm))**2 #area of the disk\n",
    "m_H2 = 2*1.00794*u.u #molecular mass (H_2)\n",
    "N_H2_d=M_d*u.M_sun/(A_d*m_H2.to(u.M_sun)) \n",
    "print(N_H2_d)"
   ]
  },
  {
   "cell_type": "markdown",
   "metadata": {},
   "source": [
    "## Calculo abundancia"
   ]
  },
  {
   "cell_type": "code",
   "execution_count": null,
   "metadata": {},
   "outputs": [],
   "source": [
    "N_Sp_d = 3.9e14*u.cm**(-2) #column density of the species\n",
    "Ab_Sp_d = N_Sp_d/N_H2_d #abundance of the species with respect to H2\n",
    "print(Ab_Sp_d)"
   ]
  },
  {
   "cell_type": "markdown",
   "metadata": {},
   "source": [
    "# From line emission"
   ]
  },
  {
   "cell_type": "markdown",
   "metadata": {},
   "source": [
    "## M"
   ]
  },
  {
   "cell_type": "code",
   "execution_count": null,
   "metadata": {},
   "outputs": [],
   "source": [
    "d_l=0.6 #diameter in arcsec\n",
    "D=300 #distance in pc\n",
    "N_Sp = 3.9e14*u.cm**(-2) #column density of the species\n",
    "Frac_Ab_Sp = 1/45#fractional abundance of the species (13C/12C=1/45, 15N/14N=1/234 Crocket 2014 -> Tercero 2010)\n",
    "Ab_Mol = 4.1e-9 #abundance of the molecule respect to H2 (HCN=3.8e-7 hot core, 4.1e-9 compact ridge, 2.8e-7 plateu, 3.3e-8 extendend ridge, Crocket 2014)\n",
    "Ab_Sp = Frac_Ab_Sp * Ab_Mol #abundance of the species with respect to H2\n",
    "r_l=d_l/2*D*u.au #radio in AU \n",
    "A_l=np.pi*(r_l.to(u.cm))**2 #area of the disk\n",
    "m_H2 = 2*1.00794*u.u #molecular mass (H_2)\n",
    "N_H2_l = N_Sp/Ab_Sp\n",
    "M_H2_l = A_l*N_H2_l*m_H2.to(u.M_sun)\n",
    "M_H2=M_H2_l*(r_d/r_l)**2\n",
    "print(Ab_Sp)\n",
    "print(N_H2_l)\n",
    "print(M_H2_l)\n",
    "print(M_H2)"
   ]
  },
  {
   "cell_type": "markdown",
   "metadata": {},
   "source": [
    "# Escape velocity"
   ]
  },
  {
   "cell_type": "code",
   "execution_count": 3,
   "metadata": {},
   "outputs": [
    {
     "data": {
      "text/latex": [
       "$832.34886 \\; \\mathrm{\\frac{m}{s}}$"
      ],
      "text/plain": [
       "<Quantity 832.3488573 m / s>"
      ]
     },
     "execution_count": 3,
     "metadata": {},
     "output_type": "execute_result"
    }
   ],
   "source": [
    "M = 0.41*u.solMass\n",
    "r = 1050*u.au\n",
    "par.EscapeVel(M,r)"
   ]
  }
 ],
 "metadata": {
  "kernelspec": {
   "display_name": "Python 3",
   "language": "python",
   "name": "python3"
  },
  "language_info": {
   "codemirror_mode": {
    "name": "ipython",
    "version": 3
   },
   "file_extension": ".py",
   "mimetype": "text/x-python",
   "name": "python",
   "nbconvert_exporter": "python",
   "pygments_lexer": "ipython3",
   "version": "3.7.5"
  }
 },
 "nbformat": 4,
 "nbformat_minor": 4
}
