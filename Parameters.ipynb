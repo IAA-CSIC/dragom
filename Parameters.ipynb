{
 "cells": [
  {
   "cell_type": "code",
   "execution_count": 1,
   "metadata": {},
   "outputs": [],
   "source": [
    "from scipy import constants\n",
    "from astropy import units as u\n",
    "import numpy as np "
   ]
  },
  {
   "cell_type": "markdown",
   "metadata": {},
   "source": [
    "# Toomre's Q parameter"
   ]
  },
  {
   "cell_type": "code",
   "execution_count": 94,
   "metadata": {},
   "outputs": [],
   "source": [
    "def csound(T,m=2*1.00794*u.u,gamma=7/5):\n",
    "    '''Calculates the speed of sound in a molecular gas at temperature T. By default assumes the gas is H2.\n",
    "    m is the molecular mass and gamma the adiabatic index (7/5 for a diatomic gas and 5/3 for a monoatomic).\n",
    "    Is mandatory to enter the units of the parameters m (u,kg,g,etc) and T (K).'''\n",
    "    k = constants.k * u.kg * u.m**2 * u.s**(-2) * u.K**(-1) #Boltzmann constant \n",
    "    cs = (gamma*k*T/m.to(u.kg))**(1/2) #disk sound speed\n",
    "    return cs"
   ]
  },
  {
   "cell_type": "code",
   "execution_count": 79,
   "metadata": {},
   "outputs": [],
   "source": [
    "def Q(M_star,M_disk,T_disk,r_disk,c_sound):\n",
    "    '''Calculates Toomre's parameter Q for a rotationally supported disk around a protostar (Kratter & Lodato 2016,\n",
    "    Tobin 2016). Q < 1 means the disk is unstable (i.e. will fragment). Parameters are: M_star is the mass of \n",
    "    the protostar; M_disk, T_disk and r_disk are the mass, temperature and radius of the disk, respectively; \n",
    "    and c_sound is the speed of the sound in the gas. Is mandatory to enter the units of the parameters \n",
    "    M (solMass,kg,g,etc), T (K), r (au, km, m, etc) and c_sound (m/s).'''\n",
    "    G = constants.G * u.m**3 * u.kg**(-1) * u.s**(-2) #Gravitational constant\n",
    "    v = np.sqrt(G*M_star.to(u.kg)/r_disk.to(u.m)) #linear velocity at radius r\n",
    "    w = v/r_disk.to(u.m) #Keplerian angular velocity\n",
    "    H = c_sound/w # disk scale height\n",
    "    Q = 2*M_star/M_disk * H/r_disk.to(u.m) \n",
    "    return Q"
   ]
  },
  {
   "cell_type": "markdown",
   "metadata": {},
   "source": [
    "## Us"
   ]
  },
  {
   "cell_type": "code",
   "execution_count": 99,
   "metadata": {
    "scrolled": true
   },
   "outputs": [
    {
     "data": {
      "text/latex": [
       "$3.2083405 \\; \\mathrm{}$"
      ],
      "text/plain": [
       "<Quantity 3.20834049>"
      ]
     },
     "execution_count": 99,
     "metadata": {},
     "output_type": "execute_result"
    }
   ],
   "source": [
    "M_star = 0.41*u.solMass\n",
    "M_disk = 0.14*u.solMass\n",
    "T_disk=126*u.K #disk temperature\n",
    "r_disk=150*u.au\n",
    "c_sound=csound(T_disk)\n",
    "Q(M_star,M_disk,T_disk,r_disk,c_sound)"
   ]
  },
  {
   "cell_type": "markdown",
   "metadata": {},
   "source": [
    "## Tobin (HOPS 370)"
   ]
  },
  {
   "cell_type": "code",
   "execution_count": 88,
   "metadata": {},
   "outputs": [
    {
     "data": {
      "text/latex": [
       "$7.0069443 \\; \\mathrm{}$"
      ],
      "text/plain": [
       "<Quantity 7.00694434>"
      ]
     },
     "execution_count": 88,
     "metadata": {},
     "output_type": "execute_result"
    }
   ],
   "source": [
    "M_star = 2.5*u.solMass\n",
    "M_disk = 0.06*u.solMass\n",
    "T_disk=180*u.K #disk temperature\n",
    "r_disk=50*u.au\n",
    "c_sound=560*u.m*u.s**-1\n",
    "#c_sound=csound(T_disk)\n",
    "Q(M_star,M_disk,T_disk,r_disk,c_sound)"
   ]
  },
  {
   "cell_type": "markdown",
   "metadata": {},
   "source": [
    "# Mass from dust emission"
   ]
  },
  {
   "cell_type": "code",
   "execution_count": 144,
   "metadata": {},
   "outputs": [],
   "source": [
    "def MassMA01(S,T,D,k_nu,f=100):\n",
    "    '''Calculates the mass of gas from the dust emission using eq (1) in Motte & André (2001).Parameters are: S\n",
    "    is the dust flux density; T is the dust temperature; D is the distance to the source; k_nu is the dust opacity\n",
    "    at the frequency of the observation and f is the gas-to-dust ratio (by default 100). Is mandatory to enter the \n",
    "    units of the parameters S (mJy, Jy, etc), T (K), D (pc, km, m, etc), k_nu (cm^2/g).'''\n",
    "    M = f*5.3e-3*(S.to(u.mJy)/(10*u.mJy))*(D.to(u.pc)/(140*u.pc))**2*(k_nu/(0.01*u.cm**2*u.g**-1))**(-1)*(T/(15*u.K))**-1\n",
    "    return M*u.solMass"
   ]
  },
  {
   "cell_type": "code",
   "execution_count": 150,
   "metadata": {},
   "outputs": [
    {
     "name": "stdout",
     "output_type": "stream",
     "text": [
      "[<Quantity 0.18038123 solMass>, <Quantity 0.22066054 solMass>, <Quantity 0.15253715 solMass>]\n"
     ]
    }
   ],
   "source": [
    "S = 1102*u.mJy\n",
    "D = 300*u.pc\n",
    "k_nu = 1.77*u.cm**2*u.g**-1 #en cm^2/g (del polvo)\n",
    "f= 100 # gas-to-dust ratio\n",
    "T=126 #temperature of the disk\n",
    "ErT=23 #error of T\n",
    "T_d = [i*u.K for i in [T,T-ErT,T+ErT]]\n",
    "M=[MassMA01(S,t,D,k_nu) for t in T_d]\n",
    "print(M)"
   ]
  },
  {
   "cell_type": "markdown",
   "metadata": {},
   "source": [
    "## M(dust) Eq(1) Tobin+2020 (hops370)"
   ]
  },
  {
   "cell_type": "code",
   "execution_count": 46,
   "metadata": {},
   "outputs": [],
   "source": [
    "#Tobin (HOPS370)\n",
    "S = 0.207e-30*u.J*u.cm**(-2)#en Jy\n",
    "T_d=[180*u.K]\n",
    "D=392*u.pc\n",
    "k_nu=0.899*u.cm**2*u.g**(-1)"
   ]
  },
  {
   "cell_type": "code",
   "execution_count": 50,
   "metadata": {},
   "outputs": [],
   "source": [
    "#us (SVS13)\n",
    "S = 1.102e-30*u.J*u.cm**(-2)#en Jy\n",
    "D=300*u.pc\n",
    "T_d=[i*u.K for i in T_d]\n",
    "k_nu=1.77*u.cm**2*u.g**(-1)"
   ]
  },
  {
   "cell_type": "code",
   "execution_count": 51,
   "metadata": {},
   "outputs": [
    {
     "data": {
      "text/plain": [
       "[<Quantity 0.16831544 solMass>,\n",
       " <Quantity 0.13622668 solMass>,\n",
       " <Quantity 0.11440958 solMass>]"
      ]
     },
     "execution_count": 51,
     "metadata": {},
     "output_type": "execute_result"
    }
   ],
   "source": [
    "h=constants.h*u.J*u.s\n",
    "l_onda=1.3*u.mm\n",
    "c=constants.c*100*u.cm*u.s**-1\n",
    "nu=c/l_onda.to(u.cm)\n",
    "k=constants.k*u.J*u.K**-1\n",
    "B=[2*h*nu**3/c**2 * 1/(np.exp(h*nu/(k*i))-1) for i in T_d]\n",
    "M_d=[(D.to(u.cm))**2*S/(k_nu*i) for i in B] #de polvo\n",
    "[i.to(u.M_sun)*100 for i in M_d] #de gas y polvo"
   ]
  },
  {
   "cell_type": "markdown",
   "metadata": {},
   "source": [
    "## Calculo N(H2)"
   ]
  },
  {
   "cell_type": "code",
   "execution_count": null,
   "metadata": {},
   "outputs": [],
   "source": [
    "d_d=2 #diameter in arcsec\n",
    "r_d=d_d/2*D*u.au #radio in AU \n",
    "A_d=np.pi*(r_d.to(u.cm))**2 #area of the disk\n",
    "m_H2 = 2*1.00794*u.u #molecular mass (H_2)\n",
    "N_H2_d=M_d*u.M_sun/(A_d*m_H2.to(u.M_sun)) \n",
    "print(N_H2_d)"
   ]
  },
  {
   "cell_type": "markdown",
   "metadata": {},
   "source": [
    "## Calculo abundancia"
   ]
  },
  {
   "cell_type": "code",
   "execution_count": null,
   "metadata": {},
   "outputs": [],
   "source": [
    "N_Sp_d = 3.9e14*u.cm**(-2) #column density of the species\n",
    "Ab_Sp_d = N_Sp_d/N_H2_d #abundance of the species with respect to H2\n",
    "print(Ab_Sp_d)"
   ]
  },
  {
   "cell_type": "markdown",
   "metadata": {},
   "source": [
    "# From line emission"
   ]
  },
  {
   "cell_type": "markdown",
   "metadata": {},
   "source": [
    "## M"
   ]
  },
  {
   "cell_type": "code",
   "execution_count": null,
   "metadata": {},
   "outputs": [],
   "source": [
    "d_l=0.6 #diameter in arcsec\n",
    "D=300 #distance in pc\n",
    "N_Sp = 3.9e14*u.cm**(-2) #column density of the species\n",
    "Frac_Ab_Sp = 1/45#fractional abundance of the species (13C/12C=1/45, 15N/14N=1/234 Crocket 2014 -> Tercero 2010)\n",
    "Ab_Mol = 4.1e-9 #abundance of the molecule respect to H2 (HCN=3.8e-7 hot core, 4.1e-9 compact ridge, 2.8e-7 plateu, 3.3e-8 extendend ridge, Crocket 2014)\n",
    "Ab_Sp = Frac_Ab_Sp * Ab_Mol #abundance of the species with respect to H2\n",
    "r_l=d_l/2*D*u.au #radio in AU \n",
    "A_l=np.pi*(r_l.to(u.cm))**2 #area of the disk\n",
    "m_H2 = 2*1.00794*u.u #molecular mass (H_2)\n",
    "N_H2_l = N_Sp/Ab_Sp\n",
    "M_H2_l = A_l*N_H2_l*m_H2.to(u.M_sun)\n",
    "M_H2=M_H2_l*(r_d/r_l)**2\n",
    "print(Ab_Sp)\n",
    "print(N_H2_l)\n",
    "print(M_H2_l)\n",
    "print(M_H2)"
   ]
  },
  {
   "cell_type": "code",
   "execution_count": null,
   "metadata": {},
   "outputs": [],
   "source": []
  }
 ],
 "metadata": {
  "kernelspec": {
   "display_name": "Python 3",
   "language": "python",
   "name": "python3"
  },
  "language_info": {
   "codemirror_mode": {
    "name": "ipython",
    "version": 3
   },
   "file_extension": ".py",
   "mimetype": "text/x-python",
   "name": "python",
   "nbconvert_exporter": "python",
   "pygments_lexer": "ipython3",
   "version": "3.7.5"
  }
 },
 "nbformat": 4,
 "nbformat_minor": 4
}
