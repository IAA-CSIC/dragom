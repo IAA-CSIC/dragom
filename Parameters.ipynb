{
 "cells": [
  {
   "cell_type": "code",
   "execution_count": 1,
   "metadata": {},
   "outputs": [],
   "source": [
    "from scipy import constants\n",
    "from astropy import units as u\n",
    "import numpy as np "
   ]
  },
  {
   "cell_type": "markdown",
   "metadata": {},
   "source": [
    "# Toomre's Q parameter"
   ]
  },
  {
   "cell_type": "markdown",
   "metadata": {},
   "source": [
    "## Us"
   ]
  },
  {
   "cell_type": "code",
   "execution_count": null,
   "metadata": {},
   "outputs": [],
   "source": [
    "r=150*u.au\n",
    "M_star = 0.41*u.solMass\n",
    "M_disk = 0.22*u.solMass\n",
    "T=100*u.K #disk temperature"
   ]
  },
  {
   "cell_type": "code",
   "execution_count": null,
   "metadata": {},
   "outputs": [],
   "source": [
    "r=300*u.au"
   ]
  },
  {
   "cell_type": "markdown",
   "metadata": {},
   "source": [
    "## Tobin (HOPS 370)"
   ]
  },
  {
   "cell_type": "code",
   "execution_count": null,
   "metadata": {},
   "outputs": [],
   "source": [
    "r=50*u.au\n",
    "M_star = 2.5*u.solMass\n",
    "M_disk = 0.06*u.solMass\n",
    "T=180*u.K #disk temperature"
   ]
  },
  {
   "cell_type": "code",
   "execution_count": null,
   "metadata": {
    "scrolled": true
   },
   "outputs": [],
   "source": [
    "G = constants.G * u.m**3 * u.kg**(-1) * u.s**(-2) #Gravitatcional constant\n",
    "gamma=7/5 #adiabatic index, 7/5 for a diatomic gas and 5/3 for a monoatomic\n",
    "k = constants.k * u.kg * u.m**2 * u.s**(-2) * u.K**(-1) #Boltzmann constant \n",
    "m_H2 = 2*1.00794*u.u #molecular mass (H_2)\n",
    "#cs = (gamma*k*T/mH2.to(u.kg))**(1/2) #disk sound speed\n",
    "cs=560*u.m*u.s**(-1)\n",
    "v = np.sqrt(G*M_star.to(u.kg)/r.to(u.m)) #linear velocity at radius r\n",
    "w = v/r.to(u.m) #Keplerian angular velocity\n",
    "H = cs/w # disk scale height\n",
    "Q = 2*M_star/M_disk * H/r.to(u.m) #(for a rotationally supported disk around a protostar, Kratter & Lodato 2016, Tobin 2016)\n",
    "print(Q)"
   ]
  },
  {
   "cell_type": "markdown",
   "metadata": {},
   "source": [
    "# From dust emission"
   ]
  },
  {
   "cell_type": "markdown",
   "metadata": {},
   "source": [
    "## M (dust)"
   ]
  },
  {
   "cell_type": "code",
   "execution_count": 3,
   "metadata": {},
   "outputs": [
    {
     "name": "stdout",
     "output_type": "stream",
     "text": [
      "[0.22066054 0.18038123 0.15253715]\n"
     ]
    }
   ],
   "source": [
    "S = 1102#en mJy\n",
    "D = 300# en pc\n",
    "k_nu = 1.77 #en cm^2/g (del polvo)\n",
    "f= 100 # gas-to-dust ratio\n",
    "T_d = np.array([126-23,126,126+23]) #en K (126+-23K)\n",
    "M_d=5.3e-3*(S/10)*(D/140)**2*(k_nu/f/0.01)**(-1)*(T_d/15)**(-1) #en solar mass (del gas)\n",
    "print(M_d)"
   ]
  },
  {
   "cell_type": "markdown",
   "metadata": {},
   "source": [
    "## Calculo N(H2)"
   ]
  },
  {
   "cell_type": "code",
   "execution_count": 5,
   "metadata": {},
   "outputs": [
    {
     "name": "stdout",
     "output_type": "stream",
     "text": [
      "[2.07144593e+24 1.69332484e+24 1.43193913e+24] 1 / cm2\n"
     ]
    }
   ],
   "source": [
    "d_d=2 #diameter in arcsec\n",
    "r_d=d_d/2*D*u.au #radio in AU \n",
    "A_d=np.pi*(r_d.to(u.cm))**2 #area of the disk\n",
    "m_H2 = 2*1.00794*u.u #molecular mass (H_2)\n",
    "N_H2_d=M_d*u.M_sun/(A_d*m_H2.to(u.M_sun)) \n",
    "print(N_H2_d)"
   ]
  },
  {
   "cell_type": "markdown",
   "metadata": {},
   "source": [
    "## Calculo abundancia"
   ]
  },
  {
   "cell_type": "code",
   "execution_count": 6,
   "metadata": {},
   "outputs": [
    {
     "name": "stdout",
     "output_type": "stream",
     "text": [
      "[1.88274285e-10 2.30316115e-10 2.72357946e-10]\n"
     ]
    }
   ],
   "source": [
    "N_Sp_d = 3.9e14*u.cm**(-2) #column density of the species\n",
    "Ab_Sp_d = N_Sp_d/N_H2_d #abundance of the species with respect to H2\n",
    "print(Ab_Sp_d)"
   ]
  },
  {
   "cell_type": "markdown",
   "metadata": {},
   "source": [
    "# From line emission"
   ]
  },
  {
   "cell_type": "markdown",
   "metadata": {},
   "source": [
    "## M"
   ]
  },
  {
   "cell_type": "code",
   "execution_count": 11,
   "metadata": {},
   "outputs": [
    {
     "name": "stdout",
     "output_type": "stream",
     "text": [
      "9.111111111111112e-11\n",
      "4.2804878048780483e+24 1 / cm2\n",
      "0.04103806197386875 solMass\n",
      "0.4559784663763195 solMass\n"
     ]
    }
   ],
   "source": [
    "d_l=0.6 #diameter in arcsec\n",
    "D=300 #distance in pc\n",
    "N_Sp = 3.9e14*u.cm**(-2) #column density of the species\n",
    "Frac_Ab_Sp = 1/45#fractional abundance of the species (13C/12C=1/45, 15N/14N=1/234 Crocket 2014 -> Tercero 2010)\n",
    "Ab_Mol = 4.1e-9 #abundance of the molecule respect to H2 (HCN=3.8e-7 hot core, 4.1e-9 compact ridge, 2.8e-7 plateu, 3.3e-8 extendend ridge, Crocket 2014)\n",
    "Ab_Sp = Frac_Ab_Sp * Ab_Mol #abundance of the species with respect to H2\n",
    "r_l=d_l/2*D*u.au #radio in AU \n",
    "A_l=np.pi*(r_l.to(u.cm))**2 #area of the disk\n",
    "m_H2 = 2*1.00794*u.u #molecular mass (H_2)\n",
    "N_H2_l = N_Sp/Ab_Sp\n",
    "M_H2_l = A_l*N_H2_l*m_H2.to(u.M_sun)\n",
    "M_H2=M_H2_l*(r_d/r_l)**2\n",
    "print(Ab_Sp)\n",
    "print(N_H2_l)\n",
    "print(M_H2_l)\n",
    "print(M_H2)"
   ]
  },
  {
   "cell_type": "code",
   "execution_count": null,
   "metadata": {},
   "outputs": [],
   "source": []
  }
 ],
 "metadata": {
  "kernelspec": {
   "display_name": "Python 3",
   "language": "python",
   "name": "python3"
  },
  "language_info": {
   "codemirror_mode": {
    "name": "ipython",
    "version": 3
   },
   "file_extension": ".py",
   "mimetype": "text/x-python",
   "name": "python",
   "nbconvert_exporter": "python",
   "pygments_lexer": "ipython3",
   "version": "3.7.5"
  }
 },
 "nbformat": 4,
 "nbformat_minor": 4
}
