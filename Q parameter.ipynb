{
 "cells": [
  {
   "cell_type": "code",
   "execution_count": 1,
   "metadata": {},
   "outputs": [],
   "source": [
    "from scipy import constants\n",
    "from astropy import units as u\n",
    "import numpy as np "
   ]
  },
  {
   "cell_type": "markdown",
   "metadata": {},
   "source": [
    "# SVS13"
   ]
  },
  {
   "cell_type": "code",
   "execution_count": 120,
   "metadata": {},
   "outputs": [],
   "source": [
    "r=150*u.au\n",
    "M_star = 0.41*u.solMass\n",
    "M_disk = 0.22*u.solMass\n",
    "T=100*u.K #disk temperature"
   ]
  },
  {
   "cell_type": "code",
   "execution_count": 122,
   "metadata": {},
   "outputs": [],
   "source": [
    "r=300*u.au"
   ]
  },
  {
   "cell_type": "markdown",
   "metadata": {},
   "source": [
    "# Tobin"
   ]
  },
  {
   "cell_type": "code",
   "execution_count": 112,
   "metadata": {},
   "outputs": [],
   "source": [
    "r=50*u.au\n",
    "M_star = 2.5*u.solMass\n",
    "M_disk = 0.123*u.solMass\n",
    "T=180*u.K #disk temperature"
   ]
  },
  {
   "cell_type": "markdown",
   "metadata": {},
   "source": [
    "# Calculo"
   ]
  },
  {
   "cell_type": "code",
   "execution_count": 123,
   "metadata": {
    "scrolled": true
   },
   "outputs": [
    {
     "name": "stdout",
     "output_type": "stream",
     "text": [
      "2.572263954540335\n"
     ]
    }
   ],
   "source": [
    "G = constants.G * u.m**3 * u.kg**(-1) * u.s**(-2) #Gravitatcional constant\n",
    "gamma=7/5 #adiabatic index, 7/5 for a diatomic gas and 5/3 for a monoatomic\n",
    "k = constants.k * u.kg * u.m**2 * u.s**(-2) * u.K**(-1) #Boltzmann constant\n",
    "m = 2*1.00794*u.u #molecular mass (H_2) \n",
    "cs = (gamma*k*T/m.to(u.kg))**(1/2) #disk sound speed\n",
    "v = np.sqrt(G*M_star.to(u.kg)/r.to(u.m)) #linear velocity at radius r\n",
    "w = v/r.to(u.m) #Keplerian angular velocity\n",
    "H = cs/w # disk scale height\n",
    "Q = 2*M_star/M_disk * H/r.to(u.m) #(for a rotationally supported disk around a protostar, Kratter & Lodato 2016, Tobin 2016)\n",
    "print(Q)"
   ]
  },
  {
   "cell_type": "code",
   "execution_count": null,
   "metadata": {},
   "outputs": [],
   "source": []
  }
 ],
 "metadata": {
  "kernelspec": {
   "display_name": "Python 3",
   "language": "python",
   "name": "python3"
  },
  "language_info": {
   "codemirror_mode": {
    "name": "ipython",
    "version": 3
   },
   "file_extension": ".py",
   "mimetype": "text/x-python",
   "name": "python",
   "nbconvert_exporter": "python",
   "pygments_lexer": "ipython3",
   "version": "3.7.5"
  }
 },
 "nbformat": 4,
 "nbformat_minor": 4
}
